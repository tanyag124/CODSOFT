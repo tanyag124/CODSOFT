{
  "nbformat": 4,
  "nbformat_minor": 0,
  "metadata": {
    "colab": {
      "provenance": []
    },
    "kernelspec": {
      "name": "python3",
      "display_name": "Python 3"
    },
    "language_info": {
      "name": "python"
    }
  },
  "cells": [
    {
      "cell_type": "code",
      "execution_count": 1,
      "metadata": {
        "colab": {
          "base_uri": "https://localhost:8080/"
        },
        "id": "5LgLeZNOB56I",
        "outputId": "6d3620d5-98ce-40dd-db8d-6f082f5d5914"
      },
      "outputs": [
        {
          "output_type": "stream",
          "name": "stdout",
          "text": [
            "Movie Recommendations:\n",
            "JUMANJI: 1.00\n",
            "BAHUBALI: 1.00\n",
            "AVENGERS: 0.33\n",
            "SINGHAM: 0.00\n",
            "GOLMAAL: 0.00\n",
            "CHENNAI EXPRESS: 0.00\n"
          ]
        }
      ],
      "source": [
        "import numpy as np\n",
        "\n",
        "# Example movie dataset (movies and their genres)\n",
        "movies = {\n",
        "    'AVENGERS': ['Action', 'Sci-Fi'],\n",
        "    'SINGHAM': ['Drama'],\n",
        "    'GOLMAAL': ['Comedy'],\n",
        "    'JUMANJI': ['Action', 'Adventure'],\n",
        "    'BAHUBALI': ['Action', 'Adventure'],\n",
        "    'CHENNAI EXPRESS': ['Drama', 'Romance']\n",
        "}\n",
        "\n",
        "# Example user preferences (preferred genres)\n",
        "user_preferences = ['Action', 'Adventure']\n",
        "\n",
        "# Function to calculate similarity between user preferences and movies\n",
        "def calculate_similarity(user_preferences, movie_genres):\n",
        "    user_preferences_set = set(user_preferences)\n",
        "    movie_genres_set = set(movie_genres)\n",
        "    similarity_score = len(user_preferences_set.intersection(movie_genres_set)) / float(len(user_preferences_set.union(movie_genres_set)))\n",
        "    return similarity_score\n",
        "\n",
        "# Function to recommend movies based on user preferences\n",
        "def recommend_movies(user_preferences, movies):\n",
        "    recommendations = []\n",
        "    for movie, genres in movies.items():\n",
        "        similarity_score = calculate_similarity(user_preferences, genres)\n",
        "        recommendations.append((movie, similarity_score))\n",
        "\n",
        "    # Sort recommendations by similarity score in descending order\n",
        "    recommendations = sorted(recommendations, key=lambda x: x[1], reverse=True)\n",
        "    return recommendations\n",
        "\n",
        "# Get movie recommendations\n",
        "recommendations = recommend_movies(user_preferences, movies)\n",
        "\n",
        "# Print recommendations\n",
        "print(\"Movie Recommendations:\")\n",
        "for movie, score in recommendations:\n",
        "    print(f\"{movie}: {score:.2f}\")"
      ]
    }
  ]
}