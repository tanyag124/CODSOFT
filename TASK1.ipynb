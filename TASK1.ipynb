{
  "nbformat": 4,
  "nbformat_minor": 0,
  "metadata": {
    "colab": {
      "provenance": []
    },
    "kernelspec": {
      "name": "python3",
      "display_name": "Python 3"
    },
    "language_info": {
      "name": "python"
    }
  },
  "cells": [
    {
      "cell_type": "code",
      "execution_count": null,
      "metadata": {
        "id": "gA19PSU9_JSH"
      },
      "outputs": [],
      "source": []
    },
    {
      "cell_type": "code",
      "source": [
        "# Define a function to respond to user inputs\n",
        "def chatbot_response(user_input):\n",
        "    # Convert user input to lowercase for easier comparison\n",
        "    input_lower = user_input.lower()\n",
        "\n",
        "    # Simple if-else statements based on predefined rules\n",
        "    if \"hello\" in input_lower or \"hi\" in input_lower:\n",
        "        return \"Hello! How may I assist you?\"\n",
        "\n",
        "    elif \"how are you\" in input_lower:\n",
        "        return \"I'm just a bot, but thankyou for asking!\"\n",
        "\n",
        "    elif \"your name\" in input_lower:\n",
        "        return \"I'm a chatbot. You can call me CHATTERBOX.\"\n",
        "\n",
        "    elif \"bye\" in input_lower or \"goodbye\" in input_lower:\n",
        "        return \"Goodbye! Have a great day!\"\n",
        "\n",
        "    else:\n",
        "        return \"I'm sorry, I don't understand that. Could you please ask something else?\"\n",
        "\n",
        "# Main function to run the chatbot\n",
        "def main():\n",
        "    print(\"Welcome! Ask me something or say goodbye to exit.\")\n",
        "\n",
        "    while True:\n",
        "        user_input = input(\"You: \")\n",
        "        if user_input.lower() == 'exit' or user_input.lower() == 'quit':\n",
        "            print(\"Chatbot: Goodbye!\")\n",
        "            break\n",
        "\n",
        "        response = chatbot_response(user_input)\n",
        "        print(\"Chatbot:\", response)\n",
        "\n",
        "if __name__ == \"__main__\":\n",
        "    main()\n"
      ],
      "metadata": {
        "colab": {
          "base_uri": "https://localhost:8080/"
        },
        "id": "wHSXEdD6_QKp",
        "outputId": "b0238988-3af5-4c8b-af8d-9eca975b3586"
      },
      "execution_count": null,
      "outputs": [
        {
          "output_type": "stream",
          "name": "stdout",
          "text": [
            "Welcome! Ask me something or say goodbye to exit.\n",
            "You: HOW ARE YOU TODAY?\n",
            "Chatbot: I'm just a bot, but thankyou for asking!\n",
            "You: OKAYYYY BABUUUU\n",
            "Chatbot: I'm sorry, I don't understand that. Could you please ask something else?\n"
          ]
        }
      ]
    }
  ]
}